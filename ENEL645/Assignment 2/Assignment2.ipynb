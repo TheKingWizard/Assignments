{
 "cells": [
  {
   "cell_type": "markdown",
   "metadata": {},
   "source": [
    "# ENEL 645 - Assignment 2\n",
    "## Adam Kerr - 10146363"
   ]
  },
  {
   "cell_type": "code",
   "execution_count": 1,
   "metadata": {},
   "outputs": [],
   "source": [
    "import numpy as np\n",
    "import pandas as pd\n",
    "import seaborn as sn\n",
    "import matplotlib.pyplot as plt"
   ]
  },
  {
   "cell_type": "code",
   "execution_count": 2,
   "metadata": {},
   "outputs": [],
   "source": [
    "import os\n",
    "\n",
    "cwd = os.getcwd()\n",
    "#os.environ[\"PATH\"] += os.pathsep + 'D:/Documents/Software/graphviz-2.38/release/bin'\n",
    "os.environ[\"PATH\"] += os.pathsep + cwd + '\\\\graphviz-2.38\\\\release\\\\bin'"
   ]
  },
  {
   "cell_type": "markdown",
   "metadata": {},
   "source": [
    "## Part I. Learning and data exploration with Decision Tree.\n",
    "You are recommended to re-use the preprocessing code from Assignment 1 for step 1. Only\n",
    "standardize the continuous variables, and replace the non-continuous variables with the original\n",
    "data. You have implemented in assignment 1 the Naïve Bayes and Bayes nets. Note the different\n",
    "methods will produce varied results based on your assumptions and learning approach to\n",
    "determine the model.\n",
    "\n",
    "### 1) Please download the “heart.csv’ file. Data preprocessing with pandas: From the tutorial, please modify the code to do the following.\n",
    "#### a. Read the data from csv file."
   ]
  },
  {
   "cell_type": "code",
   "execution_count": 3,
   "metadata": {},
   "outputs": [
    {
     "data": {
      "text/html": [
       "<div>\n",
       "<style scoped>\n",
       "    .dataframe tbody tr th:only-of-type {\n",
       "        vertical-align: middle;\n",
       "    }\n",
       "\n",
       "    .dataframe tbody tr th {\n",
       "        vertical-align: top;\n",
       "    }\n",
       "\n",
       "    .dataframe thead th {\n",
       "        text-align: right;\n",
       "    }\n",
       "</style>\n",
       "<table border=\"1\" class=\"dataframe\">\n",
       "  <thead>\n",
       "    <tr style=\"text-align: right;\">\n",
       "      <th></th>\n",
       "      <th>age</th>\n",
       "      <th>sex</th>\n",
       "      <th>cp</th>\n",
       "      <th>trestbps</th>\n",
       "      <th>chol</th>\n",
       "      <th>fbs</th>\n",
       "      <th>restecg</th>\n",
       "      <th>thalach</th>\n",
       "      <th>exang</th>\n",
       "      <th>oldpeak</th>\n",
       "      <th>slope</th>\n",
       "      <th>ca</th>\n",
       "      <th>thal</th>\n",
       "      <th>target</th>\n",
       "    </tr>\n",
       "  </thead>\n",
       "  <tbody>\n",
       "    <tr>\n",
       "      <td>0</td>\n",
       "      <td>63</td>\n",
       "      <td>1</td>\n",
       "      <td>3</td>\n",
       "      <td>145</td>\n",
       "      <td>233</td>\n",
       "      <td>1</td>\n",
       "      <td>0</td>\n",
       "      <td>150</td>\n",
       "      <td>0</td>\n",
       "      <td>2.3</td>\n",
       "      <td>0</td>\n",
       "      <td>0</td>\n",
       "      <td>1</td>\n",
       "      <td>1</td>\n",
       "    </tr>\n",
       "    <tr>\n",
       "      <td>1</td>\n",
       "      <td>37</td>\n",
       "      <td>1</td>\n",
       "      <td>2</td>\n",
       "      <td>130</td>\n",
       "      <td>250</td>\n",
       "      <td>0</td>\n",
       "      <td>1</td>\n",
       "      <td>187</td>\n",
       "      <td>0</td>\n",
       "      <td>3.5</td>\n",
       "      <td>0</td>\n",
       "      <td>0</td>\n",
       "      <td>2</td>\n",
       "      <td>1</td>\n",
       "    </tr>\n",
       "    <tr>\n",
       "      <td>2</td>\n",
       "      <td>41</td>\n",
       "      <td>0</td>\n",
       "      <td>1</td>\n",
       "      <td>130</td>\n",
       "      <td>204</td>\n",
       "      <td>0</td>\n",
       "      <td>0</td>\n",
       "      <td>172</td>\n",
       "      <td>0</td>\n",
       "      <td>1.4</td>\n",
       "      <td>2</td>\n",
       "      <td>0</td>\n",
       "      <td>2</td>\n",
       "      <td>1</td>\n",
       "    </tr>\n",
       "    <tr>\n",
       "      <td>3</td>\n",
       "      <td>56</td>\n",
       "      <td>1</td>\n",
       "      <td>1</td>\n",
       "      <td>120</td>\n",
       "      <td>236</td>\n",
       "      <td>0</td>\n",
       "      <td>1</td>\n",
       "      <td>178</td>\n",
       "      <td>0</td>\n",
       "      <td>0.8</td>\n",
       "      <td>2</td>\n",
       "      <td>0</td>\n",
       "      <td>2</td>\n",
       "      <td>1</td>\n",
       "    </tr>\n",
       "    <tr>\n",
       "      <td>4</td>\n",
       "      <td>57</td>\n",
       "      <td>0</td>\n",
       "      <td>0</td>\n",
       "      <td>120</td>\n",
       "      <td>354</td>\n",
       "      <td>0</td>\n",
       "      <td>1</td>\n",
       "      <td>163</td>\n",
       "      <td>1</td>\n",
       "      <td>0.6</td>\n",
       "      <td>2</td>\n",
       "      <td>0</td>\n",
       "      <td>2</td>\n",
       "      <td>1</td>\n",
       "    </tr>\n",
       "  </tbody>\n",
       "</table>\n",
       "</div>"
      ],
      "text/plain": [
       "   age  sex  cp  trestbps  chol  fbs  restecg  thalach  exang  oldpeak  slope  \\\n",
       "0   63    1   3       145   233    1        0      150      0      2.3      0   \n",
       "1   37    1   2       130   250    0        1      187      0      3.5      0   \n",
       "2   41    0   1       130   204    0        0      172      0      1.4      2   \n",
       "3   56    1   1       120   236    0        1      178      0      0.8      2   \n",
       "4   57    0   0       120   354    0        1      163      1      0.6      2   \n",
       "\n",
       "   ca  thal  target  \n",
       "0   0     1       1  \n",
       "1   0     2       1  \n",
       "2   0     2       1  \n",
       "3   0     2       1  \n",
       "4   0     2       1  "
      ]
     },
     "execution_count": 3,
     "metadata": {},
     "output_type": "execute_result"
    }
   ],
   "source": [
    "df = pd.read_csv('heart.csv') \n",
    "\n",
    "#remove samples where chest pain = 4 (NaN in original data)\n",
    "d = df['ca'] != 4\n",
    "df = df[d]\n",
    "\n",
    "#remove samples where thal = 0. (NaN in original data)\n",
    "d2 = df['thal'] != 0\n",
    "df = df[d2]\n",
    "\n",
    "df.head()"
   ]
  },
  {
   "cell_type": "markdown",
   "metadata": {},
   "source": [
    "#### b. Read selected columns (attributes) and the label as attribute 14."
   ]
  },
  {
   "cell_type": "code",
   "execution_count": 4,
   "metadata": {},
   "outputs": [],
   "source": [
    "x = df.loc[:,:'thal']\n",
    "y = df.loc[:,'target']"
   ]
  },
  {
   "cell_type": "markdown",
   "metadata": {},
   "source": [
    "#### c. Form a numpy array"
   ]
  },
  {
   "cell_type": "code",
   "execution_count": 5,
   "metadata": {},
   "outputs": [],
   "source": [
    "x = x.to_numpy()\n",
    "y = y.to_numpy()"
   ]
  },
  {
   "cell_type": "markdown",
   "metadata": {},
   "source": [
    "#### d. Split into training, testing sets with the data. Use 20% as the testing ratio. "
   ]
  },
  {
   "cell_type": "code",
   "execution_count": 6,
   "metadata": {},
   "outputs": [],
   "source": [
    "from sklearn.model_selection import train_test_split\n",
    "x_train, x_test, y_train, y_test = train_test_split(x, y, test_size = 0.2, random_state = 0)\n",
    "y_train = y_train.ravel()\n",
    "y_test = y_test.ravel()"
   ]
  },
  {
   "cell_type": "markdown",
   "metadata": {},
   "source": [
    "#### e. You do not need to standardize the data in decision tree, as shown from the tutorials and lectures, a decision tree advantage is that can be interpreted with raw attributes.\n",
    "### 2) Implement the Decision Tree classifier."
   ]
  },
  {
   "cell_type": "code",
   "execution_count": 7,
   "metadata": {},
   "outputs": [],
   "source": [
    "from sklearn import tree\n",
    "\n",
    "dtc = tree.DecisionTreeClassifier(random_state=0)\n",
    "dtc = dtc.fit(x_train, y_train)"
   ]
  },
  {
   "cell_type": "markdown",
   "metadata": {},
   "source": [
    "### 3) Visualize the learned decision tree. (You may use the following visualization code, where clf is the trained classifier) Alternatively you can use the tree.plot_tree function and plt.show(), but it may be difficult to see with higher max_depth."
   ]
  },
  {
   "cell_type": "code",
   "execution_count": 8,
   "metadata": {},
   "outputs": [
    {
     "data": {
      "image/png": "[encoded data removed]",
      "text/plain": [
       "<Figure size 432x288 with 1 Axes>"
      ]
     },
     "metadata": {
      "needs_background": "light"
     },
     "output_type": "display_data"
    }
   ],
   "source": [
    "feature_names={0:'age',1:'sex',2:'cp',3:'trestbps',4:'chol',5:'fbs',6:'restecg',7:'thalach',8:'exang',9:'oldpeak',10:'slope',11:'ca',12:'thal'}\n",
    "c_names={0: 'healthy', 1: 'heart_disease'}\n",
    "\n",
    "tree.plot_tree(dtc, filled=True, class_names=c_names)\n",
    "plt.title('Graph 1.1 - Full Decision Tree')\n",
    "plt.show()\n"
   ]
  },
  {
   "cell_type": "markdown",
   "metadata": {},
   "source": [
    "See **Appendix A** for a larger version of Graph 1.1"
   ]
  },
  {
   "cell_type": "code",
   "execution_count": 9,
   "metadata": {},
   "outputs": [
    {
     "data": {
      "text/plain": [
       "'Graph_1.1.png'"
      ]
     },
     "execution_count": 9,
     "metadata": {},
     "output_type": "execute_result"
    }
   ],
   "source": [
    "import graphviz\n",
    "dot_data = tree.export_graphviz(dtc, out_file=None, feature_names=feature_names, class_names=c_names)\n",
    "graph = graphviz.Source(dot_data)\n",
    "graph.format='png'\n",
    "graph.render(\"Graph_1.1\")"
   ]
  },
  {
   "cell_type": "markdown",
   "metadata": {},
   "source": [
    "### 4) Answer the following questions:\n",
    "#### a. Interpretation of tree with depth\n",
    "##### i. Examine the tree model visualization. One advantage of a tree is the ability to decipher “what this model is thinking”. From your visualization plot and model, for d=3 and d=5, trace from the root (first split of the tree) to a leaf resulting in conditions for heart disease.\n",
    "###### 1. Draw or screenshot the tree for d=3 and d=5 and write down the path."
   ]
  },
  {
   "cell_type": "code",
   "execution_count": 10,
   "metadata": {},
   "outputs": [
    {
     "data": {
      "image/png": "[encoded data removed]",
      "text/plain": [
       "<Figure size 432x288 with 1 Axes>"
      ]
     },
     "metadata": {
      "needs_background": "light"
     },
     "output_type": "display_data"
    },
    {
     "data": {
      "text/plain": [
       "'Graph_1.2.png'"
      ]
     },
     "execution_count": 10,
     "metadata": {},
     "output_type": "execute_result"
    }
   ],
   "source": [
    "dtc = tree.DecisionTreeClassifier(max_depth=3, random_state=0) \n",
    "dtc = dtc.fit(x_train, y_train)\n",
    "\n",
    "tree.plot_tree(dtc, filled=True, class_names=c_names)\n",
    "plt.title('Graph 1.2 - Tree with Max Depth of 3')\n",
    "plt.show()\n",
    "\n",
    "dot_data = tree.export_graphviz(dtc, out_file=None, feature_names=feature_names, class_names=c_names)\n",
    "graph = graphviz.Source(dot_data)\n",
    "graph.format='png'\n",
    "graph.render(\"Graph_1.2\")"
   ]
  },
  {
   "cell_type": "code",
   "execution_count": 11,
   "metadata": {},
   "outputs": [
    {
     "data": {
      "image/png": "[encoded data removed]",
      "text/plain": [
       "<Figure size 432x288 with 1 Axes>"
      ]
     },
     "metadata": {
      "needs_background": "light"
     },
     "output_type": "display_data"
    },
    {
     "data": {
      "text/plain": [
       "'Graph_1.3.png'"
      ]
     },
     "execution_count": 11,
     "metadata": {},
     "output_type": "execute_result"
    }
   ],
   "source": [
    "dtc = tree.DecisionTreeClassifier(max_depth=5, random_state=0) \n",
    "dtc = dtc.fit(x_train, y_train)\n",
    "\n",
    "tree.plot_tree(dtc, filled=True, class_names=c_names)\n",
    "plt.title('Graph 1.3 - Tree with Max Depth of 5')\n",
    "plt.show()\n",
    "\n",
    "dot_data = tree.export_graphviz(dtc, out_file=None, feature_names=feature_names, class_names=c_names)\n",
    "graph = graphviz.Source(dot_data)\n",
    "graph.format='png'\n",
    "graph.render(\"Graph_1.3\")"
   ]
  },
  {
   "cell_type": "markdown",
   "metadata": {},
   "source": [
    "###### 2. (Path example: If patient has: [age>50 & cp<0.5&fbs < 0.5, ….] then heart disease)"
   ]
  },
  {
   "cell_type": "markdown",
   "metadata": {},
   "source": [
    "Depth 3:\n",
    "if [ca<=0.5 & thal<=2.5 & oldpeak<=3.55], then heart disease\n",
    "\n",
    "Depth 5:\n",
    "if [ca<=0.5 & thal<=2.5 & oldpeak<=3.55 & thalach>83.5 & chol <= 272.0], then heart disease"
   ]
  },
  {
   "cell_type": "markdown",
   "metadata": {},
   "source": [
    "##### ii. Follow one specific path for d=3 which results in an impure leaf (non-zero Gini), and watch the growth to d=5. What are the Gini values as you traverse the tree from depth 3 to depth 5? "
   ]
  },
  {
   "cell_type": "markdown",
   "metadata": {},
   "source": [
    "[ca<=0.5 & thal<=2.5 & oldpeak<=3.55 & thalach>83.5 & chol > 272.0]\n",
    "\n",
    "d=3, gini=0.167\n",
    "\n",
    "d=4, gini=0.151\n",
    "\n",
    "d=5, gini=0.351 "
   ]
  },
  {
   "cell_type": "markdown",
   "metadata": {},
   "source": [
    "#### b. Accuracy and prediction with depth. Vary the depth of the tree from d=3 to d=12\n",
    "##### i. Print the TRAINING accuracy and the TEST accuracy for each depth. Use the visualization and variables to guide your answer and explain why the accuracy changes with depth. "
   ]
  },
  {
   "cell_type": "code",
   "execution_count": 12,
   "metadata": {},
   "outputs": [
    {
     "name": "stdout",
     "output_type": "stream",
     "text": [
      "Training points: 236, Testing points: 60\n"
     ]
    },
    {
     "data": {
      "text/html": [
       "<div>\n",
       "<style scoped>\n",
       "    .dataframe tbody tr th:only-of-type {\n",
       "        vertical-align: middle;\n",
       "    }\n",
       "\n",
       "    .dataframe tbody tr th {\n",
       "        vertical-align: top;\n",
       "    }\n",
       "\n",
       "    .dataframe thead th {\n",
       "        text-align: right;\n",
       "    }\n",
       "</style>\n",
       "<table border=\"1\" class=\"dataframe\">\n",
       "  <thead>\n",
       "    <tr style=\"text-align: right;\">\n",
       "      <th></th>\n",
       "      <th>tree_depth</th>\n",
       "      <th>incorrect_training</th>\n",
       "      <th>training_accuracy</th>\n",
       "      <th>incorrect_testing</th>\n",
       "      <th>testing_accuracy</th>\n",
       "    </tr>\n",
       "  </thead>\n",
       "  <tbody>\n",
       "    <tr>\n",
       "      <td>0</td>\n",
       "      <td>3</td>\n",
       "      <td>33</td>\n",
       "      <td>86.016949</td>\n",
       "      <td>11</td>\n",
       "      <td>81.666667</td>\n",
       "    </tr>\n",
       "    <tr>\n",
       "      <td>1</td>\n",
       "      <td>4</td>\n",
       "      <td>25</td>\n",
       "      <td>89.406780</td>\n",
       "      <td>11</td>\n",
       "      <td>81.666667</td>\n",
       "    </tr>\n",
       "    <tr>\n",
       "      <td>2</td>\n",
       "      <td>5</td>\n",
       "      <td>20</td>\n",
       "      <td>91.525424</td>\n",
       "      <td>11</td>\n",
       "      <td>81.666667</td>\n",
       "    </tr>\n",
       "    <tr>\n",
       "      <td>3</td>\n",
       "      <td>6</td>\n",
       "      <td>18</td>\n",
       "      <td>92.372881</td>\n",
       "      <td>11</td>\n",
       "      <td>81.666667</td>\n",
       "    </tr>\n",
       "    <tr>\n",
       "      <td>4</td>\n",
       "      <td>7</td>\n",
       "      <td>10</td>\n",
       "      <td>95.762712</td>\n",
       "      <td>12</td>\n",
       "      <td>80.000000</td>\n",
       "    </tr>\n",
       "    <tr>\n",
       "      <td>5</td>\n",
       "      <td>8</td>\n",
       "      <td>8</td>\n",
       "      <td>96.610169</td>\n",
       "      <td>14</td>\n",
       "      <td>76.666667</td>\n",
       "    </tr>\n",
       "    <tr>\n",
       "      <td>6</td>\n",
       "      <td>9</td>\n",
       "      <td>2</td>\n",
       "      <td>99.152542</td>\n",
       "      <td>12</td>\n",
       "      <td>80.000000</td>\n",
       "    </tr>\n",
       "    <tr>\n",
       "      <td>7</td>\n",
       "      <td>10</td>\n",
       "      <td>0</td>\n",
       "      <td>100.000000</td>\n",
       "      <td>11</td>\n",
       "      <td>81.666667</td>\n",
       "    </tr>\n",
       "    <tr>\n",
       "      <td>8</td>\n",
       "      <td>11</td>\n",
       "      <td>0</td>\n",
       "      <td>100.000000</td>\n",
       "      <td>11</td>\n",
       "      <td>81.666667</td>\n",
       "    </tr>\n",
       "    <tr>\n",
       "      <td>9</td>\n",
       "      <td>12</td>\n",
       "      <td>0</td>\n",
       "      <td>100.000000</td>\n",
       "      <td>11</td>\n",
       "      <td>81.666667</td>\n",
       "    </tr>\n",
       "  </tbody>\n",
       "</table>\n",
       "</div>"
      ],
      "text/plain": [
       "   tree_depth  incorrect_training  training_accuracy  incorrect_testing  \\\n",
       "0           3                  33          86.016949                 11   \n",
       "1           4                  25          89.406780                 11   \n",
       "2           5                  20          91.525424                 11   \n",
       "3           6                  18          92.372881                 11   \n",
       "4           7                  10          95.762712                 12   \n",
       "5           8                   8          96.610169                 14   \n",
       "6           9                   2          99.152542                 12   \n",
       "7          10                   0         100.000000                 11   \n",
       "8          11                   0         100.000000                 11   \n",
       "9          12                   0         100.000000                 11   \n",
       "\n",
       "   testing_accuracy  \n",
       "0         81.666667  \n",
       "1         81.666667  \n",
       "2         81.666667  \n",
       "3         81.666667  \n",
       "4         80.000000  \n",
       "5         76.666667  \n",
       "6         80.000000  \n",
       "7         81.666667  \n",
       "8         81.666667  \n",
       "9         81.666667  "
      ]
     },
     "execution_count": 12,
     "metadata": {},
     "output_type": "execute_result"
    }
   ],
   "source": [
    "def accuracy(incorrect, total):\n",
    "    return (total - incorrect) / total * 100\n",
    "\n",
    "num_test_points = y_test.shape[0]\n",
    "num_train_points = y_train.shape[0]\n",
    "\n",
    "tree_depth = []\n",
    "incorrect_training = []\n",
    "incorrect_testing = []\n",
    "training_accuracy = []\n",
    "testing_accuracy = []\n",
    "\n",
    "for i in range(3,13):\n",
    "    tree_depth.append(i)\n",
    "    \n",
    "    dtc = tree.DecisionTreeClassifier(max_depth=i, random_state=0) \n",
    "    dtc = dtc.fit(x_train, y_train)\n",
    "\n",
    "    y_pred_train = dtc.predict(x_train)\n",
    "    y_pred_test = dtc.predict(x_test)\n",
    "\n",
    "\n",
    "\n",
    "    num_train_incorrect = (y_train != y_pred_train).sum()\n",
    "    num_test_incorrect = (y_test != y_pred_test).sum()\n",
    "    \n",
    "    incorrect_training.append(num_train_incorrect)\n",
    "    incorrect_testing.append(num_test_incorrect)\n",
    "    \n",
    "    training_accuracy.append(accuracy(num_train_incorrect, num_train_points))\n",
    "    testing_accuracy.append(accuracy(num_test_incorrect, num_test_points))\n",
    "    \n",
    "    \n",
    "d = {'tree_depth': tree_depth, 'incorrect_training': incorrect_training, 'training_accuracy' : training_accuracy, \n",
    "       'incorrect_testing' : incorrect_testing, 'testing_accuracy' : testing_accuracy }\n",
    "\n",
    "accuracy_frame = pd.DataFrame(data=d)\n",
    "\n",
    "print('Training points: %d, Testing points: %d' % (num_train_points, num_test_points))\n",
    "accuracy_frame\n"
   ]
  },
  {
   "cell_type": "markdown",
   "metadata": {},
   "source": [
    "##### ii. Determine the output probability of a patient with the following 13 attributes: X_patient = [57,0,1,130,236,0,0,174,0,0,1,1,2] "
   ]
  },
  {
   "cell_type": "code",
   "execution_count": 13,
   "metadata": {},
   "outputs": [
    {
     "data": {
      "text/html": [
       "<div>\n",
       "<style scoped>\n",
       "    .dataframe tbody tr th:only-of-type {\n",
       "        vertical-align: middle;\n",
       "    }\n",
       "\n",
       "    .dataframe tbody tr th {\n",
       "        vertical-align: top;\n",
       "    }\n",
       "\n",
       "    .dataframe thead th {\n",
       "        text-align: right;\n",
       "    }\n",
       "</style>\n",
       "<table border=\"1\" class=\"dataframe\">\n",
       "  <thead>\n",
       "    <tr style=\"text-align: right;\">\n",
       "      <th></th>\n",
       "      <th>tree_depth</th>\n",
       "      <th>prob_heart_disease</th>\n",
       "      <th>prob_healthy</th>\n",
       "    </tr>\n",
       "  </thead>\n",
       "  <tbody>\n",
       "    <tr>\n",
       "      <td>0</td>\n",
       "      <td>3</td>\n",
       "      <td>32.352941</td>\n",
       "      <td>67.647059</td>\n",
       "    </tr>\n",
       "    <tr>\n",
       "      <td>1</td>\n",
       "      <td>4</td>\n",
       "      <td>25.806452</td>\n",
       "      <td>74.193548</td>\n",
       "    </tr>\n",
       "    <tr>\n",
       "      <td>2</td>\n",
       "      <td>5</td>\n",
       "      <td>7.692308</td>\n",
       "      <td>92.307692</td>\n",
       "    </tr>\n",
       "    <tr>\n",
       "      <td>3</td>\n",
       "      <td>6</td>\n",
       "      <td>0.000000</td>\n",
       "      <td>100.000000</td>\n",
       "    </tr>\n",
       "    <tr>\n",
       "      <td>4</td>\n",
       "      <td>7</td>\n",
       "      <td>0.000000</td>\n",
       "      <td>100.000000</td>\n",
       "    </tr>\n",
       "    <tr>\n",
       "      <td>5</td>\n",
       "      <td>8</td>\n",
       "      <td>0.000000</td>\n",
       "      <td>100.000000</td>\n",
       "    </tr>\n",
       "    <tr>\n",
       "      <td>6</td>\n",
       "      <td>9</td>\n",
       "      <td>0.000000</td>\n",
       "      <td>100.000000</td>\n",
       "    </tr>\n",
       "    <tr>\n",
       "      <td>7</td>\n",
       "      <td>10</td>\n",
       "      <td>0.000000</td>\n",
       "      <td>100.000000</td>\n",
       "    </tr>\n",
       "    <tr>\n",
       "      <td>8</td>\n",
       "      <td>11</td>\n",
       "      <td>0.000000</td>\n",
       "      <td>100.000000</td>\n",
       "    </tr>\n",
       "    <tr>\n",
       "      <td>9</td>\n",
       "      <td>12</td>\n",
       "      <td>0.000000</td>\n",
       "      <td>100.000000</td>\n",
       "    </tr>\n",
       "  </tbody>\n",
       "</table>\n",
       "</div>"
      ],
      "text/plain": [
       "   tree_depth  prob_heart_disease  prob_healthy\n",
       "0           3           32.352941     67.647059\n",
       "1           4           25.806452     74.193548\n",
       "2           5            7.692308     92.307692\n",
       "3           6            0.000000    100.000000\n",
       "4           7            0.000000    100.000000\n",
       "5           8            0.000000    100.000000\n",
       "6           9            0.000000    100.000000\n",
       "7          10            0.000000    100.000000\n",
       "8          11            0.000000    100.000000\n",
       "9          12            0.000000    100.000000"
      ]
     },
     "execution_count": 13,
     "metadata": {},
     "output_type": "execute_result"
    }
   ],
   "source": [
    "x_patient = np.array([57,0,1,130,236,0,0,174,0,0,1,1,2]).reshape(1,-1)\n",
    "\n",
    "tree_depth = []\n",
    "prob_heart_disease = []\n",
    "prob_healthy = []\n",
    "\n",
    "for i in range(3,13):\n",
    "    tree_depth.append(i)\n",
    "    \n",
    "    dtc = tree.DecisionTreeClassifier(max_depth=i, random_state=0)\n",
    "    dtc = dtc.fit(x_train, y_train)\n",
    "\n",
    "    pred = dtc.predict_proba(x_patient)\n",
    "    \n",
    "    prob_heart_disease.append(pred[0,0]*100)\n",
    "    prob_healthy.append(pred[0,1]*100)\n",
    "\n",
    "d = {'tree_depth': tree_depth, 'prob_heart_disease': prob_heart_disease, 'prob_healthy' : prob_healthy }\n",
    "\n",
    "prediction_frame = pd.DataFrame(data=d)\n",
    "prediction_frame"
   ]
  },
  {
   "cell_type": "markdown",
   "metadata": {},
   "source": [
    "##### iii. What is the depth, corresponding classification accuracy and confusion matrix that gives best test performance?"
   ]
  },
  {
   "cell_type": "markdown",
   "metadata": {},
   "source": [
    "The best accuracy was at depths 3,4,5,6,10. Assuming that greater depth causes overfitting, the best model would be the one with the highest test accuracy at the shallowest depth. Therefore the best depth is 3."
   ]
  },
  {
   "cell_type": "code",
   "execution_count": 14,
   "metadata": {},
   "outputs": [
    {
     "name": "stdout",
     "output_type": "stream",
     "text": [
      "Testing accuracy for depth 12: 81.666667\n"
     ]
    },
    {
     "data": {
      "image/png": "[encoded data removed]",
      "text/plain": [
       "<Figure size 432x288 with 2 Axes>"
      ]
     },
     "metadata": {
      "needs_background": "light"
     },
     "output_type": "display_data"
    }
   ],
   "source": [
    "best_depth = 3\n",
    "dtc = tree.DecisionTreeClassifier(max_depth=best_depth, random_state=0)\n",
    "dtc = dtc.fit(x_train, y_train)\n",
    "print(\"Testing accuracy for depth %d: %f\" % (best_depth, accuracy((y_test != y_pred_test).sum(), num_test_points)))\n",
    "\n",
    "from sklearn.metrics import confusion_matrix\n",
    "\n",
    "fig, ax = plt.subplots()\n",
    "cm = confusion_matrix(y_test, y_pred_test)\n",
    "df_cm = pd.DataFrame(cm, ['Healthy', 'Heart Disease'], ['Healthy', 'Heart Disease'])\n",
    "sn.heatmap(df_cm, annot=True)\n",
    "ax.set_ylim(2.0,0.0)\n",
    "ax.set_ylabel('Actual')\n",
    "ax.set_xlabel('Predicted')\n",
    "plt.title('Confusion matrix for tree')\n",
    "\n",
    "plt.show()"
   ]
  },
  {
   "cell_type": "markdown",
   "metadata": {},
   "source": [
    "#### c. Using the feature selection in assignment 1, select those 3 features from the data, vary the depth from d=3 to d=12\n",
    "##### i. Print the TRAINING and TEST accuracy for each depth."
   ]
  },
  {
   "cell_type": "code",
   "execution_count": 15,
   "metadata": {},
   "outputs": [
    {
     "name": "stdout",
     "output_type": "stream",
     "text": [
      "Training points: 236, Testing points: 60\n"
     ]
    },
    {
     "data": {
      "text/html": [
       "<div>\n",
       "<style scoped>\n",
       "    .dataframe tbody tr th:only-of-type {\n",
       "        vertical-align: middle;\n",
       "    }\n",
       "\n",
       "    .dataframe tbody tr th {\n",
       "        vertical-align: top;\n",
       "    }\n",
       "\n",
       "    .dataframe thead th {\n",
       "        text-align: right;\n",
       "    }\n",
       "</style>\n",
       "<table border=\"1\" class=\"dataframe\">\n",
       "  <thead>\n",
       "    <tr style=\"text-align: right;\">\n",
       "      <th></th>\n",
       "      <th>tree_depth</th>\n",
       "      <th>incorrect_training</th>\n",
       "      <th>training_accuracy</th>\n",
       "      <th>incorrect_testing</th>\n",
       "      <th>testing_accuracy</th>\n",
       "    </tr>\n",
       "  </thead>\n",
       "  <tbody>\n",
       "    <tr>\n",
       "      <td>0</td>\n",
       "      <td>3</td>\n",
       "      <td>40</td>\n",
       "      <td>83.050847</td>\n",
       "      <td>11</td>\n",
       "      <td>81.666667</td>\n",
       "    </tr>\n",
       "    <tr>\n",
       "      <td>1</td>\n",
       "      <td>4</td>\n",
       "      <td>39</td>\n",
       "      <td>83.474576</td>\n",
       "      <td>12</td>\n",
       "      <td>80.000000</td>\n",
       "    </tr>\n",
       "    <tr>\n",
       "      <td>2</td>\n",
       "      <td>5</td>\n",
       "      <td>35</td>\n",
       "      <td>85.169492</td>\n",
       "      <td>12</td>\n",
       "      <td>80.000000</td>\n",
       "    </tr>\n",
       "    <tr>\n",
       "      <td>3</td>\n",
       "      <td>6</td>\n",
       "      <td>32</td>\n",
       "      <td>86.440678</td>\n",
       "      <td>14</td>\n",
       "      <td>76.666667</td>\n",
       "    </tr>\n",
       "    <tr>\n",
       "      <td>4</td>\n",
       "      <td>7</td>\n",
       "      <td>28</td>\n",
       "      <td>88.135593</td>\n",
       "      <td>16</td>\n",
       "      <td>73.333333</td>\n",
       "    </tr>\n",
       "    <tr>\n",
       "      <td>5</td>\n",
       "      <td>8</td>\n",
       "      <td>26</td>\n",
       "      <td>88.983051</td>\n",
       "      <td>16</td>\n",
       "      <td>73.333333</td>\n",
       "    </tr>\n",
       "    <tr>\n",
       "      <td>6</td>\n",
       "      <td>9</td>\n",
       "      <td>25</td>\n",
       "      <td>89.406780</td>\n",
       "      <td>18</td>\n",
       "      <td>70.000000</td>\n",
       "    </tr>\n",
       "    <tr>\n",
       "      <td>7</td>\n",
       "      <td>10</td>\n",
       "      <td>25</td>\n",
       "      <td>89.406780</td>\n",
       "      <td>16</td>\n",
       "      <td>73.333333</td>\n",
       "    </tr>\n",
       "    <tr>\n",
       "      <td>8</td>\n",
       "      <td>11</td>\n",
       "      <td>25</td>\n",
       "      <td>89.406780</td>\n",
       "      <td>16</td>\n",
       "      <td>73.333333</td>\n",
       "    </tr>\n",
       "    <tr>\n",
       "      <td>9</td>\n",
       "      <td>12</td>\n",
       "      <td>25</td>\n",
       "      <td>89.406780</td>\n",
       "      <td>16</td>\n",
       "      <td>73.333333</td>\n",
       "    </tr>\n",
       "  </tbody>\n",
       "</table>\n",
       "</div>"
      ],
      "text/plain": [
       "   tree_depth  incorrect_training  training_accuracy  incorrect_testing  \\\n",
       "0           3                  40          83.050847                 11   \n",
       "1           4                  39          83.474576                 12   \n",
       "2           5                  35          85.169492                 12   \n",
       "3           6                  32          86.440678                 14   \n",
       "4           7                  28          88.135593                 16   \n",
       "5           8                  26          88.983051                 16   \n",
       "6           9                  25          89.406780                 18   \n",
       "7          10                  25          89.406780                 16   \n",
       "8          11                  25          89.406780                 16   \n",
       "9          12                  25          89.406780                 16   \n",
       "\n",
       "   testing_accuracy  \n",
       "0         81.666667  \n",
       "1         80.000000  \n",
       "2         80.000000  \n",
       "3         76.666667  \n",
       "4         73.333333  \n",
       "5         73.333333  \n",
       "6         70.000000  \n",
       "7         73.333333  \n",
       "8         73.333333  \n",
       "9         73.333333  "
      ]
     },
     "execution_count": 15,
     "metadata": {},
     "output_type": "execute_result"
    }
   ],
   "source": [
    "selected_attributes = [9,11,12] # oldpeak, ca, thal\n",
    "x_train_selected = x_train[:, selected_attributes]\n",
    "x_test_selected = x_test[:, selected_attributes]\n",
    "\n",
    "tree_depth = []\n",
    "incorrect_training = []\n",
    "incorrect_testing = []\n",
    "training_accuracy = []\n",
    "testing_accuracy = []\n",
    "\n",
    "for i in range(3,13):\n",
    "    tree_depth.append(i)\n",
    "    \n",
    "    dtc = tree.DecisionTreeClassifier(max_depth=i, random_state=0) # criterion='entropy',\n",
    "    dtc = dtc.fit(x_train_selected, y_train)\n",
    "\n",
    "    y_pred_train = dtc.predict(x_train_selected)\n",
    "    y_pred_test = dtc.predict(x_test_selected)\n",
    "\n",
    "\n",
    "\n",
    "    num_train_incorrect = (y_train != y_pred_train).sum()\n",
    "    num_test_incorrect = (y_test != y_pred_test).sum()\n",
    "    \n",
    "    incorrect_training.append(num_train_incorrect)\n",
    "    incorrect_testing.append(num_test_incorrect)\n",
    "    \n",
    "    training_accuracy.append(accuracy(num_train_incorrect, num_train_points))\n",
    "    testing_accuracy.append(accuracy(num_test_incorrect, num_test_points))\n",
    "    \n",
    "    \n",
    "d = {'tree_depth': tree_depth, 'incorrect_training': incorrect_training, 'training_accuracy' : training_accuracy, \n",
    "       'incorrect_testing' : incorrect_testing, 'testing_accuracy' : testing_accuracy }\n",
    "\n",
    "accuracy_frame = pd.DataFrame(data=d)\n",
    "\n",
    "print('Training points: %d, Testing points: %d' % (num_train_points, num_test_points))\n",
    "accuracy_frame"
   ]
  },
  {
   "cell_type": "code",
   "execution_count": 16,
   "metadata": {},
   "outputs": [
    {
     "data": {
      "image/png": "[encoded data removed]",
      "text/plain": [
       "<Figure size 432x288 with 1 Axes>"
      ]
     },
     "metadata": {
      "needs_background": "light"
     },
     "output_type": "display_data"
    },
    {
     "data": {
      "text/plain": [
       "'Graph_1.4.png'"
      ]
     },
     "execution_count": 16,
     "metadata": {},
     "output_type": "execute_result"
    }
   ],
   "source": [
    "selected_feature_names={0:'oldpeak',1:'ca',2:'thal'}\n",
    "\n",
    "tree.plot_tree(dtc, filled=True, class_names=c_names)\n",
    "plt.title('Graph 1.4 - Tree trained on selected features')\n",
    "plt.show()\n",
    "\n",
    "dot_data = tree.export_graphviz(dtc, out_file=None, feature_names=selected_feature_names, class_names=c_names)\n",
    "graph = graphviz.Source(dot_data)\n",
    "graph.format='png'\n",
    "graph.render(\"Graph_1.4\")"
   ]
  },
  {
   "cell_type": "markdown",
   "metadata": {},
   "source": [
    "##### ii. Did feature selection do anything to improve, or only worsen the results in this case? Hint: What features did the original tree choose compared to this tree? "
   ]
  },
  {
   "cell_type": "markdown",
   "metadata": {},
   "source": [
    "It worsened the results as it limited which features can be used to make choices. The first couple of decisions in the original tree were based on chosen features but as the tree got deeper choices were made on other features that the new tree doesn't have access to."
   ]
  },
  {
   "cell_type": "markdown",
   "metadata": {},
   "source": [
    "#### d. Decision surfaces\n",
    "##### i. Plot the decision surface of a decision tree with the combination of 3 features you chose for the three cases: [0,1],[0,2],[1,2]. For example, use x axis as feature 0 and y axis as feature 1, then (feature 0, feature 2), then (feature 1, feature 2). \n",
    "\n",
    "**Note that for best performance, the decision surface may be more than two dimensions and\n",
    "involve multiple features (for example heartrate, age, and vessels) ** "
   ]
  },
  {
   "cell_type": "code",
   "execution_count": 17,
   "metadata": {},
   "outputs": [
    {
     "data": {
      "image/png": "[encoded data removed]",
      "text/plain": [
       "<Figure size 432x288 with 1 Axes>"
      ]
     },
     "metadata": {
      "needs_background": "light"
     },
     "output_type": "display_data"
    },
    {
     "data": {
      "image/png": "[encoded data removed]",
      "text/plain": [
       "<Figure size 432x288 with 1 Axes>"
      ]
     },
     "metadata": {
      "needs_background": "light"
     },
     "output_type": "display_data"
    },
    {
     "data": {
      "image/png": "[encoded data removed]",
      "text/plain": [
       "<Figure size 432x288 with 1 Axes>"
      ]
     },
     "metadata": {
      "needs_background": "light"
     },
     "output_type": "display_data"
    }
   ],
   "source": [
    "n_classes = 2\n",
    "plot_colors = \"rb\"\n",
    "plot_step = 0.02\n",
    "\n",
    "plt.title(\"Decision surfaces for selected features\")\n",
    "\n",
    "for pairidx, pair in enumerate([[9, 11], [9, 12], [11, 12]]):\n",
    "    x_selected = x_train[:, pair]\n",
    "\n",
    "    dtc = tree.DecisionTreeClassifier().fit(x_selected, y_train)\n",
    "\n",
    "    x_min, x_max = x_selected[:, 0].min() - 1, x_selected[:, 0].max() + 1\n",
    "    y_min, y_max = x_selected[:, 1].min() - 1, x_selected[:, 1].max() + 1\n",
    "    xx, yy = np.meshgrid(np.arange(x_min, x_max, plot_step),\n",
    "                         np.arange(y_min, y_max, plot_step))\n",
    "    plt.tight_layout(h_pad=0.5, w_pad=0.5, pad=2.5)\n",
    "\n",
    "    Z = dtc.predict(np.c_[xx.ravel(), yy.ravel()])\n",
    "    Z = Z.reshape(xx.shape)\n",
    "    cs = plt.contourf(xx, yy, Z, cmap=plt.cm.RdBu)\n",
    "\n",
    "    plt.xlabel(feature_names[pair[0]])\n",
    "    plt.ylabel(feature_names[pair[1]])\n",
    "\n",
    "    for i, color in zip(range(n_classes), plot_colors):\n",
    "        idx = np.where(y_train == i)\n",
    "        plt.scatter(x_selected[idx, 0], x_selected[idx, 1], c=color, label=c_names[i],\n",
    "                    cmap=plt.cm.RdBu, edgecolor='black', s=15)\n",
    "    \n",
    "    plt.legend(loc='lower right', borderpad=0, handletextpad=0)\n",
    "    plt.axis(\"tight\")\n",
    "    plt.show()\n",
    "\n",
    "\n"
   ]
  },
  {
   "cell_type": "markdown",
   "metadata": {},
   "source": [
    "#### e. What assumptions did we make for this model?"
   ]
  },
  {
   "cell_type": "markdown",
   "metadata": {},
   "source": [
    "Using a decision tree makes the assumption that the attributes are directly related to each other. In any given path a decision is based on some value of an attribute only for a particular value for another attribute used in the decision above."
   ]
  },
  {
   "cell_type": "markdown",
   "metadata": {},
   "source": [
    "#### f. Explain or draw an example of how a binary decision tree can be used for categorical data with more than 2 categories in an attribute feature (example: for an attribute height with 3 categories: short, medium, large), using more than one split/depth. "
   ]
  },
  {
   "cell_type": "markdown",
   "metadata": {},
   "source": [
    "A binary decision tree can make choices with more than two categories by only focusing on one category at each split. One branch leads to one category and the other leads to all of the other categories. Then on the next split it would filter out another category. \n",
    "\n",
    "Ex.\n",
    "```python\n",
    " if x \n",
    " /   \\\n",
    "A     if y \n",
    "      /   \\\n",
    "     B     C\n",
    "```"
   ]
  },
  {
   "cell_type": "markdown",
   "metadata": {},
   "source": [
    "#### g. From your observations, explain cases why we should specify a max_depth for the model."
   ]
  },
  {
   "cell_type": "markdown",
   "metadata": {},
   "source": [
    "Specifying a maximum depth helps with preventing overfitting. As seen in the results of the tree trained on only three attributes, accuracy decreased as the depth increased due to this issue."
   ]
  },
  {
   "cell_type": "markdown",
   "metadata": {},
   "source": [
    "#### h. What other approaches, or modifications could we have done in your decision tree model? In other words, what parameters can we change? (Note the suggested revisions may not necessarily be implemented in the library yet)"
   ]
  },
  {
   "cell_type": "markdown",
   "metadata": {},
   "source": [
    "We could modify the model so that the tree is pruned in order to prevent overfitting. We could specify values for the minimum number of samples that are required to make a split or to create a leaf node. We could also specify the maximum number of leaf nodes that are allowed in the tree."
   ]
  },
  {
   "cell_type": "markdown",
   "metadata": {},
   "source": [
    "## Appendix A"
   ]
  },
  {
   "cell_type": "markdown",
   "metadata": {},
   "source": [
    "### Graph 1.1 - Decision Tree"
   ]
  },
  {
   "cell_type": "markdown",
   "metadata": {},
   "source": [
    "<img src=\"Graph_1.1.png\">"
   ]
  },
  {
   "cell_type": "markdown",
   "metadata": {},
   "source": [
    "### Graph 1.2 - Tree with Depth 3"
   ]
  },
  {
   "cell_type": "markdown",
   "metadata": {},
   "source": [
    "<img src=\"Graph_1.2.png\">"
   ]
  },
  {
   "cell_type": "markdown",
   "metadata": {},
   "source": [
    "### Graph 1.3 - Tree with Depth 5"
   ]
  },
  {
   "cell_type": "markdown",
   "metadata": {},
   "source": [
    "<img src=\"Graph_1.3.png\">"
   ]
  },
  {
   "cell_type": "markdown",
   "metadata": {},
   "source": [
    "### Graph 1.4 - Tree Trained on Selected Features (\"ca\", \"oldpeak\", \"thal\")"
   ]
  },
  {
   "cell_type": "markdown",
   "metadata": {},
   "source": [
    "<img src=\"Graph_1.4.png\">"
   ]
  }
 ],
 "metadata": {
  "kernelspec": {
   "display_name": "ENEL645",
   "language": "python",
   "name": "enel645"
  },
  "language_info": {
   "codemirror_mode": {
    "name": "ipython",
    "version": 3
   },
   "file_extension": ".py",
   "mimetype": "text/x-python",
   "name": "python",
   "nbconvert_exporter": "python",
   "pygments_lexer": "ipython3",
   "version": "3.7.4"
  }
 },
 "nbformat": 4,
 "nbformat_minor": 2
}
