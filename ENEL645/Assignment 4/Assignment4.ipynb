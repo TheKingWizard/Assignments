{
 "cells": [
  {
   "cell_type": "markdown",
   "metadata": {},
   "source": [
    "# ENEL 645 - Assignment 4\n",
    "## Adam Kerr - 10146363"
   ]
  },
  {
   "cell_type": "code",
   "execution_count": 41,
   "metadata": {},
   "outputs": [],
   "source": [
    "import numpy as np\n",
    "import pandas as pd\n",
    "import seaborn as sn\n",
    "import matplotlib.pyplot as plt\n",
    "from scipy.io import loadmat\n",
    "import tensorflow as tf\n",
    "import keras"
   ]
  },
  {
   "cell_type": "markdown",
   "metadata": {},
   "source": [
    "## Part I. Time series classification: Data exploration and Learning with Deep Neural Network\n",
    "### 1. Formatting raw data to Deep Convolutional Neural Network: Our raw data from the 6 attributes will be used. This means we will not be required to extract mean/std features from the raw data.\n",
    "#### a. Please standardize the data before combining or stacking the attributes. (Note that all the reported attributes are measured in the same units (gravity) and in similar order of magnitude so standardizing may have marginal effects)\n"
   ]
  },
  {
   "cell_type": "code",
   "execution_count": 42,
   "metadata": {},
   "outputs": [],
   "source": [
    "train_data = loadmat('DataSensors\\\\rawSensorData_train.mat')\n",
    "test_data = loadmat('DataSensors\\\\rawSensorData_test.mat')\n",
    "\n",
    "acc_x_train = train_data['total_acc_x_train']\n",
    "acc_y_train = train_data['total_acc_y_train']\n",
    "acc_z_train = train_data['total_acc_z_train']\n",
    "\n",
    "gyro_x_train = train_data['body_gyro_x_train']\n",
    "gyro_y_train = train_data['body_gyro_y_train']\n",
    "gyro_z_train = train_data['body_gyro_z_train']\n",
    "\n",
    "acc_x_test = test_data['total_acc_x_test']\n",
    "acc_y_test = test_data['total_acc_y_test']\n",
    "acc_z_test = test_data['total_acc_z_test']\n",
    "\n",
    "gyro_x_test = test_data['body_gyro_x_test']\n",
    "gyro_y_test = test_data['body_gyro_y_test']\n",
    "gyro_z_test = test_data['body_gyro_z_test']"
   ]
  },
  {
   "cell_type": "code",
   "execution_count": 43,
   "metadata": {},
   "outputs": [],
   "source": [
    "from sklearn.preprocessing import StandardScaler as ss\n",
    "scaler = ss()\n",
    "\n",
    "acc_x_train_scaled = scaler.fit_transform(acc_x_train)\n",
    "acc_x_test_scaled = scaler.transform(acc_x_test)\n",
    "\n",
    "acc_y_train_scaled = scaler.fit_transform(acc_y_train)\n",
    "acc_y_test_scaled = scaler.transform(acc_y_test)\n",
    "\n",
    "acc_z_train_scaled = scaler.fit_transform(acc_z_train)\n",
    "acc_z_test_scaled = scaler.transform(acc_z_test)\n",
    "\n",
    "gyro_x_train_scaled = scaler.fit_transform(gyro_x_train)\n",
    "gyro_x_test_scaled = scaler.transform(gyro_x_test)\n",
    "\n",
    "gyro_y_train_scaled = scaler.fit_transform(gyro_y_train)\n",
    "gyro_y_test_scaled = scaler.transform(gyro_y_test)\n",
    "\n",
    "gyro_z_train_scaled = scaler.fit_transform(gyro_z_train)\n",
    "gyro_z_test_scaled = scaler.transform(gyro_z_test)"
   ]
  },
  {
   "cell_type": "markdown",
   "metadata": {},
   "source": [
    "#### b. Consider each attribute in the training [7352,128] will be stacked in the “axis=2” dimension (counting from 0), often called an input channel. We use np.stack so we obtain [7352,128,6] array, corresponding to [axis=0,1,2] as [num_samples, num_timesteps, num_attributes]. "
   ]
  },
  {
   "cell_type": "code",
   "execution_count": 44,
   "metadata": {},
   "outputs": [
    {
     "data": {
      "text/plain": [
       "(7352, 128, 6)"
      ]
     },
     "execution_count": 44,
     "metadata": {},
     "output_type": "execute_result"
    }
   ],
   "source": [
    "train = np.stack([acc_x_train_scaled, \n",
    "                  acc_y_train_scaled, \n",
    "                  acc_z_train_scaled, \n",
    "                  gyro_x_train_scaled, \n",
    "                  gyro_y_train_scaled, \n",
    "                  gyro_z_train_scaled], axis=2)\n",
    "\n",
    "train.shape"
   ]
  },
  {
   "cell_type": "markdown",
   "metadata": {},
   "source": [
    "#### c. Repeat for test data."
   ]
  },
  {
   "cell_type": "code",
   "execution_count": 45,
   "metadata": {},
   "outputs": [
    {
     "data": {
      "text/plain": [
       "(2947, 128, 6)"
      ]
     },
     "execution_count": 45,
     "metadata": {},
     "output_type": "execute_result"
    }
   ],
   "source": [
    "test = np.stack([acc_x_test_scaled, \n",
    "                 acc_y_test_scaled, \n",
    "                 acc_z_test_scaled, \n",
    "                 gyro_x_test_scaled, \n",
    "                 gyro_y_test_scaled, \n",
    "                 gyro_z_test_scaled], axis=2)\n",
    "\n",
    "test.shape"
   ]
  },
  {
   "cell_type": "markdown",
   "metadata": {},
   "source": [
    "#### d. Convert labels (1 to 5) to 0 to 4, and perform one-hot encoding"
   ]
  },
  {
   "cell_type": "code",
   "execution_count": 46,
   "metadata": {},
   "outputs": [],
   "source": [
    "from keras.utils import to_categorical\n",
    "\n",
    "labels = loadmat('DataSensors\\\\labels.mat')\n",
    "train_labels = labels['train_labels']\n",
    "test_labels = labels['test_labels']\n",
    "\n",
    "train_labels = np.subtract(train_labels, 1)\n",
    "test_labels = np.subtract(test_labels, 1)\n",
    "\n",
    "train_labels_enc = to_categorical(train_labels)\n",
    "test_labels_enc = to_categorical(test_labels)"
   ]
  },
  {
   "cell_type": "markdown",
   "metadata": {},
   "source": [
    "### 2. Implement the Deep Neural Network Classifier: Note the parameter and layer tuning is usually up to the designer, here is my architecture and tuning which converges. If your computer has “Out of memory” problem, consider reducing the number of neurons, and the batchsize in step h.\n",
    "#### a. Use a Conv1D layer with 100 filters, a sliding kernel filter of 10, padding=’causal’, Relu activation, and input shape of [num_timesteps, num_attributes]\n"
   ]
  },
  {
   "cell_type": "code",
   "execution_count": 47,
   "metadata": {},
   "outputs": [],
   "source": [
    "from keras.models import Sequential\n",
    "from keras.layers import Dense, Activation, Dropout, Flatten\n",
    "from keras.layers import Conv1D, GlobalAveragePooling1D\n",
    "from keras import regularizers, optimizers"
   ]
  },
  {
   "cell_type": "code",
   "execution_count": 48,
   "metadata": {},
   "outputs": [],
   "source": [
    "model = Sequential()\n",
    "model.add(Conv1D(100, 10,\n",
    "                 padding='causal',\n",
    "                 activation='relu',\n",
    "                 input_shape=(128, 6)))"
   ]
  },
  {
   "cell_type": "markdown",
   "metadata": {},
   "source": [
    "#### b. Add another Conv1D layer with 150 filters, sliding kernel of 20, padding=’causal’, Relu activation."
   ]
  },
  {
   "cell_type": "code",
   "execution_count": 49,
   "metadata": {},
   "outputs": [],
   "source": [
    "model.add(Conv1D(150, 20,\n",
    "                 padding='causal',\n",
    "                 activation='relu'))"
   ]
  },
  {
   "cell_type": "markdown",
   "metadata": {},
   "source": [
    "#### c. Use the “GlobalAveragePooling1D” to reduce the convolutional output to a 1D vector to use as features to a standard neural network (dense layer and output)"
   ]
  },
  {
   "cell_type": "code",
   "execution_count": 50,
   "metadata": {},
   "outputs": [],
   "source": [
    "model.add(GlobalAveragePooling1D())"
   ]
  },
  {
   "cell_type": "markdown",
   "metadata": {},
   "source": [
    "#### d. Add a dense layer with 128 neurons, followed by ‘relu” activation"
   ]
  },
  {
   "cell_type": "code",
   "execution_count": 51,
   "metadata": {},
   "outputs": [],
   "source": [
    "model.add(Dense(128))\n",
    "model.add(Activation('relu'))"
   ]
  },
  {
   "cell_type": "markdown",
   "metadata": {},
   "source": [
    "#### e. Add a dropout layer with dropout probability of 50%."
   ]
  },
  {
   "cell_type": "code",
   "execution_count": 52,
   "metadata": {},
   "outputs": [],
   "source": [
    "model.add(Dropout(0.5))"
   ]
  },
  {
   "cell_type": "markdown",
   "metadata": {},
   "source": [
    "#### f. In the output layer, specify a N=5 neuron output, with ‘softmax’ activation."
   ]
  },
  {
   "cell_type": "code",
   "execution_count": 53,
   "metadata": {},
   "outputs": [],
   "source": [
    "model.add(Dense(5))\n",
    "model.add(Activation('softmax'))"
   ]
  },
  {
   "cell_type": "markdown",
   "metadata": {},
   "source": [
    "#### g. Compile the model, using ‘adam’ optimizer, loss as ‘categorical_crossentropy’, and metrics of [‘accuracy’]."
   ]
  },
  {
   "cell_type": "code",
   "execution_count": 54,
   "metadata": {},
   "outputs": [],
   "source": [
    "model.compile(optimizer='adam',\n",
    "              loss='categorical_crossentropy',\n",
    "              metrics=['accuracy'])"
   ]
  },
  {
   "cell_type": "markdown",
   "metadata": {},
   "source": [
    "#### h. Fit (train) the model using the training [7352,128,6] features and train_label for 20 epoch. Specify a batch_size=256. (or smaller batch_size depending on your hardware)"
   ]
  },
  {
   "cell_type": "code",
   "execution_count": 55,
   "metadata": {},
   "outputs": [
    {
     "name": "stdout",
     "output_type": "stream",
     "text": [
      "Epoch 1/20\n",
      "7352/7352 [==============================] - 1s 113us/step - loss: 0.7346 - acc: 0.6820\n",
      "Epoch 2/20\n",
      "7352/7352 [==============================] - 0s 55us/step - loss: 0.2714 - acc: 0.8953\n",
      "Epoch 3/20\n",
      "7352/7352 [==============================] - 0s 54us/step - loss: 0.1813 - acc: 0.9323\n",
      "Epoch 4/20\n",
      "7352/7352 [==============================] - 0s 55us/step - loss: 0.1500 - acc: 0.9418\n",
      "Epoch 5/20\n",
      "7352/7352 [==============================] - 0s 55us/step - loss: 0.1304 - acc: 0.9468\n",
      "Epoch 6/20\n",
      "7352/7352 [==============================] - 0s 54us/step - loss: 0.1180 - acc: 0.9502\n",
      "Epoch 7/20\n",
      "7352/7352 [==============================] - 0s 55us/step - loss: 0.1178 - acc: 0.9509\n",
      "Epoch 8/20\n",
      "7352/7352 [==============================] - 0s 56us/step - loss: 0.1083 - acc: 0.9542\n",
      "Epoch 9/20\n",
      "7352/7352 [==============================] - 0s 54us/step - loss: 0.1076 - acc: 0.9508\n",
      "Epoch 10/20\n",
      "7352/7352 [==============================] - 0s 55us/step - loss: 0.1072 - acc: 0.9535\n",
      "Epoch 11/20\n",
      "7352/7352 [==============================] - 0s 54us/step - loss: 0.1006 - acc: 0.9548\n",
      "Epoch 12/20\n",
      "7352/7352 [==============================] - 0s 54us/step - loss: 0.0901 - acc: 0.9581\n",
      "Epoch 13/20\n",
      "7352/7352 [==============================] - 0s 54us/step - loss: 0.0884 - acc: 0.9572\n",
      "Epoch 14/20\n",
      "7352/7352 [==============================] - 0s 54us/step - loss: 0.0863 - acc: 0.9596\n",
      "Epoch 15/20\n",
      "7352/7352 [==============================] - 0s 54us/step - loss: 0.0807 - acc: 0.9621\n",
      "Epoch 16/20\n",
      "7352/7352 [==============================] - 0s 55us/step - loss: 0.0811 - acc: 0.9625\n",
      "Epoch 17/20\n",
      "7352/7352 [==============================] - 0s 55us/step - loss: 0.0779 - acc: 0.9640\n",
      "Epoch 18/20\n",
      "7352/7352 [==============================] - 0s 56us/step - loss: 0.0700 - acc: 0.9676\n",
      "Epoch 19/20\n",
      "7352/7352 [==============================] - 0s 55us/step - loss: 0.0684 - acc: 0.9676\n",
      "Epoch 20/20\n",
      "7352/7352 [==============================] - 0s 56us/step - loss: 0.0669 - acc: 0.9687: 0s - loss: 0.0643 - acc: 0.\n"
     ]
    }
   ],
   "source": [
    "history = model.fit(train, train_labels_enc, batch_size=256, epochs=20)"
   ]
  },
  {
   "cell_type": "markdown",
   "metadata": {},
   "source": [
    "#### i. Evaluate the results of the model on the [2549,128,6] test feature and test_label."
   ]
  },
  {
   "cell_type": "code",
   "execution_count": 56,
   "metadata": {},
   "outputs": [
    {
     "name": "stdout",
     "output_type": "stream",
     "text": [
      "\n",
      "Test loss: 0.33153717248077685\n",
      "\n",
      "Test accuracy: 92.670512 %\n"
     ]
    }
   ],
   "source": [
    "test_loss, test_acc = model.evaluate(test,  test_labels_enc, verbose=2)\n",
    "print('\\nTest loss:', test_loss)  \n",
    "print('\\nTest accuracy: %f %%' % (test_acc * 100))"
   ]
  },
  {
   "cell_type": "markdown",
   "metadata": {},
   "source": [
    "### 3. Answer the following questions:\n",
    "#### a. Print the model.summary(). For each layer, using the output shape as a guide, verify the number of parameters (Param #) is correct.\n",
    "##### i. Hint 1: In the conv layers, each filter has a certain number of neurons for the convolution weights per [num_attributes],\n",
    "##### ii. Hint 2: https://keras.io/layers/pooling/\n",
    "##### iii. Hint 3: Dense layers: output = Wx+b"
   ]
  },
  {
   "cell_type": "code",
   "execution_count": 57,
   "metadata": {},
   "outputs": [
    {
     "name": "stdout",
     "output_type": "stream",
     "text": [
      "_________________________________________________________________\n",
      "Layer (type)                 Output Shape              Param #   \n",
      "=================================================================\n",
      "conv1d_5 (Conv1D)            (None, 128, 100)          6100      \n",
      "_________________________________________________________________\n",
      "conv1d_6 (Conv1D)            (None, 128, 150)          300150    \n",
      "_________________________________________________________________\n",
      "global_average_pooling1d_3 ( (None, 150)               0         \n",
      "_________________________________________________________________\n",
      "dense_5 (Dense)              (None, 128)               19328     \n",
      "_________________________________________________________________\n",
      "activation_5 (Activation)    (None, 128)               0         \n",
      "_________________________________________________________________\n",
      "dropout_3 (Dropout)          (None, 128)               0         \n",
      "_________________________________________________________________\n",
      "dense_6 (Dense)              (None, 5)                 645       \n",
      "_________________________________________________________________\n",
      "activation_6 (Activation)    (None, 5)                 0         \n",
      "=================================================================\n",
      "Total params: 326,223\n",
      "Trainable params: 326,223\n",
      "Non-trainable params: 0\n",
      "_________________________________________________________________\n",
      "Layer 1: 6 input channels * 10 weights (kernel width) * 100 filters + 100 biases (1 per filter) = 6100\n",
      "Layer 2: 100 inputs (filters) * 20 weights (kernel width) * 150 filters + 150 biases (1 per filter) = 300150\n",
      "Layer 3: 150 inputs (filters) * 128 outputs + 128 biases = 19328\n",
      "Layer 4: 128 inputs * 128 outputs + 128 biases = 16512\n",
      "Layer 5: 128 inputs * 5 outputs + 5 biases = 645\n"
     ]
    }
   ],
   "source": [
    "model.summary()\n",
    "print(\"Layer 1: 6 input channels * 10 weights (kernel width) * 100 filters + 100 biases (1 per filter) = %d\" % (6*10*100+100))\n",
    "print(\"Layer 2: 100 inputs (filters) * 20 weights (kernel width) * 150 filters + 150 biases (1 per filter) = %d\" % (100*20*150+150))\n",
    "print(\"Layer 3: 150 inputs (filters) * 128 outputs + 128 biases = %d\" % (150*128+128))\n",
    "print(\"Layer 4: 128 inputs * 128 outputs + 128 biases = %d\" % (128*128+128))\n",
    "print(\"Layer 5: 128 inputs * 5 outputs + 5 biases = %d\" % (128*5+5))"
   ]
  },
  {
   "cell_type": "markdown",
   "metadata": {},
   "source": [
    "#### b. Plot the training cross entropy loss, the training accuracy with the number of epoch (full iterations over dataset) in the data."
   ]
  },
  {
   "cell_type": "code",
   "execution_count": 58,
   "metadata": {},
   "outputs": [
    {
     "data": {
      "image/png": "[encoded data removed]",
      "text/plain": [
       "<Figure size 432x288 with 1 Axes>"
      ]
     },
     "metadata": {
      "needs_background": "light"
     },
     "output_type": "display_data"
    }
   ],
   "source": [
    "plt.plot(history.history['loss'])\n",
    "plt.plot(history.history['acc'])\n",
    "plt.title('Model TRAIN Accuracy & Loss')\n",
    "plt.xlabel('Epoch')\n",
    "plt.legend(['Loss', 'Accuracy'], loc='right')\n",
    "plt.show()"
   ]
  },
  {
   "cell_type": "markdown",
   "metadata": {},
   "source": [
    "#### c. Output the confusion matrix and accuracy for both training and test data with deep neural network."
   ]
  },
  {
   "cell_type": "code",
   "execution_count": 59,
   "metadata": {},
   "outputs": [
    {
     "data": {
      "image/png": "[encoded data removed]",
      "text/plain": [
       "<Figure size 432x288 with 2 Axes>"
      ]
     },
     "metadata": {
      "needs_background": "light"
     },
     "output_type": "display_data"
    },
    {
     "name": "stdout",
     "output_type": "stream",
     "text": [
      "Train accuracy for Network: 97.442873 %\n"
     ]
    },
    {
     "data": {
      "image/png": "[encoded data removed]",
      "text/plain": [
       "<Figure size 432x288 with 2 Axes>"
      ]
     },
     "metadata": {
      "needs_background": "light"
     },
     "output_type": "display_data"
    },
    {
     "name": "stdout",
     "output_type": "stream",
     "text": [
      "Test accuracy for Network: 92.670512 %\n"
     ]
    }
   ],
   "source": [
    "from sklearn.metrics import confusion_matrix\n",
    "\n",
    "pred_train = model.predict(train)\n",
    "pred_test = model.predict(test)\n",
    "\n",
    "pred_train = np.array([np.argmax(x) for x in pred_train])\n",
    "pred_test = np.array([np.argmax(x) for x in pred_test])\n",
    "\n",
    "incorrect_train = (pred_train != train_labels.reshape(-1,)).sum()\n",
    "incorrect_test = (pred_test != test_labels.reshape(-1,)).sum()\n",
    "\n",
    "num_train = len(train_labels)\n",
    "num_test = len(test_labels)\n",
    "\n",
    "label_names = ['Laying', 'Sitting', 'Climbing Stairs', 'Standing', 'Walking']\n",
    "\n",
    "fig, ax = plt.subplots()\n",
    "cm = confusion_matrix(train_labels.reshape(-1,), pred_train)\n",
    "df_cm = pd.DataFrame(cm, label_names, label_names)\n",
    "sn.heatmap(df_cm, annot=True, fmt='g')\n",
    "ax.set_ylim(5.0,0.0)\n",
    "ax.set_ylabel('Actual')\n",
    "ax.set_xlabel('Predicted')\n",
    "plt.title('Confusion matrix for Train data')\n",
    "plt.show()\n",
    "\n",
    "print(\"Train accuracy for Network: %f %%\" % (((num_train - incorrect_train) / num_train) * 100))\n",
    "\n",
    "fig, ax = plt.subplots()\n",
    "cm = confusion_matrix(test_labels.reshape(-1,), pred_test)\n",
    "df_cm = pd.DataFrame(cm, label_names, label_names)\n",
    "sn.heatmap(df_cm, annot=True, fmt='g')\n",
    "ax.set_ylim(5.0,0.0)\n",
    "ax.set_ylabel('Actual')\n",
    "ax.set_xlabel('Predicted')\n",
    "plt.title('Confusion matrix for Test data')\n",
    "plt.show()\n",
    "\n",
    "print(\"Test accuracy for Network: %f %%\" % (((num_test - incorrect_test) / num_test) * 100))"
   ]
  },
  {
   "cell_type": "markdown",
   "metadata": {},
   "source": [
    "#### d. Output the softmax probability of the first 5 test samples and compare with true label."
   ]
  },
  {
   "cell_type": "code",
   "execution_count": 60,
   "metadata": {},
   "outputs": [
    {
     "name": "stdout",
     "output_type": "stream",
     "text": [
      "[[0.00000 0.00000 0.00000 1.00000 0.00000]\n",
      " [0.00000 0.00002 0.00001 0.99997 0.00000]\n",
      " [0.00000 0.00005 0.00001 0.99994 0.00000]\n",
      " [0.00000 0.00005 0.00000 0.99995 0.00000]\n",
      " [0.00000 0.00005 0.00000 0.99995 0.00000]]\n",
      "Predicted:  [3, 3, 3, 3, 3]\n",
      "Actual:  [3 3 3 3 3]\n"
     ]
    }
   ],
   "source": [
    "float_formatter = \"{:.5f}\".format\n",
    "np.set_printoptions(formatter={'float_kind':float_formatter})\n",
    "\n",
    "predictions = model.predict(test[:5])\n",
    "print(predictions)\n",
    "\n",
    "print('Predicted: ',[np.argmax(x) for x in predictions])\n",
    "print('Actual: ', test_labels[:5].reshape(-1))"
   ]
  },
  {
   "cell_type": "markdown",
   "metadata": {},
   "source": [
    "#### e. For the deep neural network, based on confusion matrix and previous analysis, which classes of activities are the most difficult and which ones conversely are easy to “classify”?"
   ]
  },
  {
   "cell_type": "markdown",
   "metadata": {},
   "source": [
    "Laying is the easiest class to classify while the others are more difficult. The network tends to confuse sitting and standing, as well as walking and climbing stairs. It also occasionally confuses sitting as climbing stairs and very rarely standing as climbing stairs."
   ]
  },
  {
   "cell_type": "markdown",
   "metadata": {},
   "source": [
    "#### f. What parameters are modifiable to the analyst in a deep neural network? You may use terminology used in the Keras libraries to guide your answer."
   ]
  },
  {
   "cell_type": "markdown",
   "metadata": {},
   "source": [
    "There are very many ways to customize the neural network. You can change the learning rate, batch size, number of epochs, number of layers, number of neurons in each layer, types of layers, types of activation, regularization, optimizers, loss functions, and performance metrics. Each of these options can be customized with a variety of hyperparameters."
   ]
  },
  {
   "cell_type": "markdown",
   "metadata": {},
   "source": [
    "#### g. Discuss any advantages or applications of using convolutional layers over choosing hand-crafted statistical features (i.e. mean, standard deviation). *Note that the current dataset, the task (predicting the activity) is already quite separable with the hand-crafted features [Assignment 3 from the 3D plots]."
   ]
  },
  {
   "cell_type": "markdown",
   "metadata": {},
   "source": [
    "The advantage of using convolutional networks is that the features are learned by the classifier. This can be very beneficial if it isn't particularly clear how to select features. For a complex task like image recognition there could easily be a very large number of features required for good performance. This simply wouldn't be feasibly for anyone to handcraft."
   ]
  }
 ],
 "metadata": {
  "kernelspec": {
   "display_name": "ENEL645",
   "language": "python",
   "name": "enel645"
  },
  "language_info": {
   "codemirror_mode": {
    "name": "ipython",
    "version": 3
   },
   "file_extension": ".py",
   "mimetype": "text/x-python",
   "name": "python",
   "nbconvert_exporter": "python",
   "pygments_lexer": "ipython3",
   "version": "3.6.6"
  }
 },
 "nbformat": 4,
 "nbformat_minor": 2
}
