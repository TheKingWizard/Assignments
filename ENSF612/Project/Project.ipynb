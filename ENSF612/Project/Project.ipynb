{
 "cells": [
  {
   "cell_type": "markdown",
   "metadata": {},
   "source": [
    "# ENSF 612 - Engineering Large Scale Data Analytics Systems\n",
    "# Heart Disease Classification Project\n",
    "## Adam Kerr (10146363)"
   ]
  },
  {
   "cell_type": "code",
   "execution_count": 1,
   "metadata": {},
   "outputs": [],
   "source": [
    "import pyspark\n",
    "from pyspark.sql import SQLContext"
   ]
  },
  {
   "cell_type": "markdown",
   "metadata": {},
   "source": [
    "#### Create spark context"
   ]
  },
  {
   "cell_type": "code",
   "execution_count": 2,
   "metadata": {},
   "outputs": [],
   "source": [
    "sc = pyspark.SparkContext('local[*]')\n",
    "sqlContext = SQLContext(sc)"
   ]
  },
  {
   "cell_type": "markdown",
   "metadata": {},
   "source": [
    "#### Read data into dataframe"
   ]
  },
  {
   "cell_type": "code",
   "execution_count": 3,
   "metadata": {},
   "outputs": [],
   "source": [
    "df = sqlContext.read.format('com.databricks.spark.csv').options(header='true', inferschema='true').load('heart.csv')"
   ]
  },
  {
   "cell_type": "markdown",
   "metadata": {},
   "source": [
    "#### Get column name from index"
   ]
  },
  {
   "cell_type": "code",
   "execution_count": 4,
   "metadata": {},
   "outputs": [],
   "source": [
    "col_names = df.schema.names\n",
    "\n",
    "def col_from_idx(i):\n",
    "    return col_names[i]"
   ]
  },
  {
   "cell_type": "markdown",
   "metadata": {},
   "source": [
    "#### Get list of columns from a binary mask\n",
    "The mask is represented as its integer value"
   ]
  },
  {
   "cell_type": "code",
   "execution_count": 5,
   "metadata": {
    "scrolled": true
   },
   "outputs": [],
   "source": [
    "def mask_to_col(mask):\n",
    "\n",
    "    columns = []\n",
    "    for i in range(0,14):\n",
    "        if 2**i & mask > 0:\n",
    "            columns.append(i)\n",
    "        \n",
    "    columns = list(map(col_from_idx, columns))\n",
    "    return columns"
   ]
  },
  {
   "cell_type": "markdown",
   "metadata": {},
   "source": [
    "#### Create masks based on the number of different features\n",
    "This creates a mask for every possible combination of features"
   ]
  },
  {
   "cell_type": "code",
   "execution_count": 6,
   "metadata": {
    "scrolled": true
   },
   "outputs": [
    {
     "name": "stdout",
     "output_type": "stream",
     "text": [
      "[1, 2, 3, 4, 5, 6, 7, 8, 9, 10, 11, 12, 13, 14, 15]\n"
     ]
    }
   ],
   "source": [
    "def num_features_to_masks(n):\n",
    "    masks = []\n",
    "    for i in range(1, 2**n):\n",
    "        masks.append(i)\n",
    "    return masks\n",
    "\n",
    "print(num_features_to_masks(4))"
   ]
  },
  {
   "cell_type": "code",
   "execution_count": 7,
   "metadata": {},
   "outputs": [],
   "source": [
    "from pyspark.ml import Pipeline\n",
    "from pyspark.ml.feature import VectorAssembler\n",
    "from pyspark.ml.classification import LogisticRegression\n",
    "from pyspark.ml.evaluation import BinaryClassificationEvaluator"
   ]
  },
  {
   "cell_type": "markdown",
   "metadata": {},
   "source": [
    "#### Combine features into a feature vector"
   ]
  },
  {
   "cell_type": "code",
   "execution_count": 8,
   "metadata": {
    "scrolled": true
   },
   "outputs": [],
   "source": [
    "stages = []\n",
    "assembler = VectorAssembler(inputCols=list(df.schema.names[:-1]), outputCol=\"features\")\n",
    "stages += [assembler]\n",
    "\n",
    "partialPipeline = Pipeline().setStages(stages)\n",
    "pipelineModel = partialPipeline.fit(df)\n",
    "preppedDataDF = pipelineModel.transform(df)"
   ]
  },
  {
   "cell_type": "markdown",
   "metadata": {},
   "source": [
    "#### Set 80% of data for training and 20% for testing"
   ]
  },
  {
   "cell_type": "code",
   "execution_count": 9,
   "metadata": {
    "scrolled": true
   },
   "outputs": [],
   "source": [
    "train, test = preppedDataDF.randomSplit([0.8, 0.2], 0)"
   ]
  },
  {
   "cell_type": "markdown",
   "metadata": {},
   "source": [
    "#### Train the model"
   ]
  },
  {
   "cell_type": "code",
   "execution_count": 10,
   "metadata": {},
   "outputs": [],
   "source": [
    "lr = LogisticRegression(labelCol='target')\n",
    "lrModel = lr.fit(train)"
   ]
  },
  {
   "cell_type": "markdown",
   "metadata": {},
   "source": [
    "#### Make predictions on test set"
   ]
  },
  {
   "cell_type": "code",
   "execution_count": 11,
   "metadata": {},
   "outputs": [],
   "source": [
    "pred = lrModel.transform(test)"
   ]
  },
  {
   "cell_type": "code",
   "execution_count": 12,
   "metadata": {},
   "outputs": [],
   "source": [
    "y = test.select(\"target\").collect()\n",
    "y_pred = pred.select(\"prediction\").collect()"
   ]
  },
  {
   "cell_type": "markdown",
   "metadata": {},
   "source": [
    "#### Evaluate model\n",
    "The metric is the area under the ROC curve"
   ]
  },
  {
   "cell_type": "code",
   "execution_count": 13,
   "metadata": {
    "scrolled": true
   },
   "outputs": [
    {
     "data": {
      "text/plain": [
       "0.9002976190476191"
      ]
     },
     "execution_count": 13,
     "metadata": {},
     "output_type": "execute_result"
    }
   ],
   "source": [
    "evaluator = BinaryClassificationEvaluator(rawPredictionCol=\"rawPrediction\", labelCol='target')\n",
    "evaluator.evaluate(pred)"
   ]
  },
  {
   "cell_type": "markdown",
   "metadata": {},
   "source": [
    "#### The inner function trains a logistic regression model on the provided features and returns the accuracy\n",
    "As this takes a long time given the number of feature combinations, it is enclosed in a closure to track the percentage completed"
   ]
  },
  {
   "cell_type": "code",
   "execution_count": 14,
   "metadata": {},
   "outputs": [],
   "source": [
    "def train_classifier_on_selected_features(num_features):\n",
    "    num_combos = 2**num_features\n",
    "    \n",
    "    n = 0\n",
    "    \n",
    "    def train_classifier_on_selected_features_inner(features):\n",
    "        \n",
    "        features.append('target')\n",
    "        new_df = df.select(features)\n",
    "        #new_df.printSchema()\n",
    "\n",
    "        stages = []\n",
    "        assembler = VectorAssembler(inputCols=list(new_df.schema.names[:-1]), outputCol=\"features\")\n",
    "        stages += [assembler]\n",
    "\n",
    "        partialPipeline = Pipeline().setStages(stages)\n",
    "        pipelineModel = partialPipeline.fit(new_df)\n",
    "        preppedDataDF = pipelineModel.transform(new_df)\n",
    "\n",
    "        train, test = preppedDataDF.randomSplit([0.8, 0.2], 0)\n",
    "\n",
    "        lr = LogisticRegression(labelCol='target')\n",
    "        lrModel = lr.fit(train)\n",
    "\n",
    "        pred = lrModel.transform(test)\n",
    "\n",
    "        evaluator = BinaryClassificationEvaluator(rawPredictionCol=\"rawPrediction\", labelCol='target')\n",
    "        \n",
    "        nonlocal n\n",
    "        n+=1\n",
    "        print(str(n / num_combos * 100) + '%')\n",
    "        \n",
    "        return evaluator.evaluate(pred)\n",
    "    \n",
    "    return train_classifier_on_selected_features_inner"
   ]
  },
  {
   "cell_type": "code",
   "execution_count": 15,
   "metadata": {},
   "outputs": [],
   "source": [
    "import pandas as pd"
   ]
  },
  {
   "cell_type": "markdown",
   "metadata": {},
   "source": [
    "#### Once the data is computed it is saved as a .csv so that it does not need to be recomputed"
   ]
  },
  {
   "cell_type": "code",
   "execution_count": 16,
   "metadata": {},
   "outputs": [
    {
     "data": {
      "text/html": [
       "<div>\n",
       "<style scoped>\n",
       "    .dataframe tbody tr th:only-of-type {\n",
       "        vertical-align: middle;\n",
       "    }\n",
       "\n",
       "    .dataframe tbody tr th {\n",
       "        vertical-align: top;\n",
       "    }\n",
       "\n",
       "    .dataframe thead th {\n",
       "        text-align: right;\n",
       "    }\n",
       "</style>\n",
       "<table border=\"1\" class=\"dataframe\">\n",
       "  <thead>\n",
       "    <tr style=\"text-align: right;\">\n",
       "      <th></th>\n",
       "      <th>Score</th>\n",
       "      <th>Features</th>\n",
       "    </tr>\n",
       "  </thead>\n",
       "  <tbody>\n",
       "    <tr>\n",
       "      <th>0</th>\n",
       "      <td>0.988095</td>\n",
       "      <td>['sex', 'cp', 'trestbps', 'restecg', 'oldpeak'...</td>\n",
       "    </tr>\n",
       "    <tr>\n",
       "      <th>1</th>\n",
       "      <td>0.987143</td>\n",
       "      <td>['sex', 'cp', 'fbs', 'restecg', 'thalach', 'ex...</td>\n",
       "    </tr>\n",
       "    <tr>\n",
       "      <th>2</th>\n",
       "      <td>0.985714</td>\n",
       "      <td>['sex', 'cp', 'fbs', 'restecg', 'thalach', 'ex...</td>\n",
       "    </tr>\n",
       "    <tr>\n",
       "      <th>3</th>\n",
       "      <td>0.982857</td>\n",
       "      <td>['cp', 'thalach', 'ca', 'thal', 'target']</td>\n",
       "    </tr>\n",
       "    <tr>\n",
       "      <th>4</th>\n",
       "      <td>0.982759</td>\n",
       "      <td>['sex', 'cp', 'trestbps', 'oldpeak', 'slope', ...</td>\n",
       "    </tr>\n",
       "    <tr>\n",
       "      <th>...</th>\n",
       "      <td>...</td>\n",
       "      <td>...</td>\n",
       "    </tr>\n",
       "    <tr>\n",
       "      <th>814</th>\n",
       "      <td>0.921429</td>\n",
       "      <td>['age', 'fbs', 'restecg', 'thalach', 'slope', ...</td>\n",
       "    </tr>\n",
       "    <tr>\n",
       "      <th>815</th>\n",
       "      <td>0.921429</td>\n",
       "      <td>['cp', 'chol', 'fbs', 'thalach', 'oldpeak', 'c...</td>\n",
       "    </tr>\n",
       "    <tr>\n",
       "      <th>816</th>\n",
       "      <td>0.921212</td>\n",
       "      <td>['restecg', 'exang', 'slope', 'ca', 'target']</td>\n",
       "    </tr>\n",
       "    <tr>\n",
       "      <th>817</th>\n",
       "      <td>0.921212</td>\n",
       "      <td>['age', 'cp', 'trestbps', 'chol', 'exang', 'ca...</td>\n",
       "    </tr>\n",
       "    <tr>\n",
       "      <th>818</th>\n",
       "      <td>0.921131</td>\n",
       "      <td>['age', 'trestbps', 'fbs', 'restecg', 'thalach...</td>\n",
       "    </tr>\n",
       "  </tbody>\n",
       "</table>\n",
       "<p>819 rows × 2 columns</p>\n",
       "</div>"
      ],
      "text/plain": [
       "        Score                                           Features\n",
       "0    0.988095  ['sex', 'cp', 'trestbps', 'restecg', 'oldpeak'...\n",
       "1    0.987143  ['sex', 'cp', 'fbs', 'restecg', 'thalach', 'ex...\n",
       "2    0.985714  ['sex', 'cp', 'fbs', 'restecg', 'thalach', 'ex...\n",
       "3    0.982857          ['cp', 'thalach', 'ca', 'thal', 'target']\n",
       "4    0.982759  ['sex', 'cp', 'trestbps', 'oldpeak', 'slope', ...\n",
       "..        ...                                                ...\n",
       "814  0.921429  ['age', 'fbs', 'restecg', 'thalach', 'slope', ...\n",
       "815  0.921429  ['cp', 'chol', 'fbs', 'thalach', 'oldpeak', 'c...\n",
       "816  0.921212      ['restecg', 'exang', 'slope', 'ca', 'target']\n",
       "817  0.921212  ['age', 'cp', 'trestbps', 'chol', 'exang', 'ca...\n",
       "818  0.921131  ['age', 'trestbps', 'fbs', 'restecg', 'thalach...\n",
       "\n",
       "[819 rows x 2 columns]"
      ]
     },
     "execution_count": 16,
     "metadata": {},
     "output_type": "execute_result"
    }
   ],
   "source": [
    "try:\n",
    "    best_df = pd.read_csv('best.csv') \n",
    "except:\n",
    "    masks = num_features_to_masks(13)\n",
    "    feature_combos = list(map(mask_to_col, masks))\n",
    "    scores = list(map(train_classifier_on_selected_features(13), feature_combos))\n",
    "    \n",
    "    rdd = sc.parallelize(scores)\n",
    "    rdd = rdd.zipWithIndex()\n",
    "    rdd = rdd.sortByKey(ascending=False)\n",
    "    rdd = rdd.map(lambda x: (x[0], mask_to_col(x[1] + 1)))\n",
    "    best = rdd.take(int(2**13 * 0.1))\n",
    "    \n",
    "    best_df = pandas.DataFrame(best, columns=['Score', 'Features'])\n",
    "    best_df.to_csv('best.csv')\n",
    "\n",
    "best_df[['Score', 'Features']]"
   ]
  },
  {
   "cell_type": "code",
   "execution_count": 17,
   "metadata": {},
   "outputs": [],
   "source": [
    "from pyspark.ml.tuning import CrossValidator, ParamGridBuilder"
   ]
  },
  {
   "cell_type": "markdown",
   "metadata": {},
   "source": [
    "#### This function now performs k-folds cross validation to tune the hyper-parameters\n"
   ]
  },
  {
   "cell_type": "code",
   "execution_count": 18,
   "metadata": {},
   "outputs": [],
   "source": [
    "def cross_validate_on_selected_features(num_items):\n",
    "    n = 0\n",
    "    \n",
    "    def cross_validate_on_selected_features_inner(features):\n",
    "        \n",
    "        features.append('target')\n",
    "        new_df = df.select(features)\n",
    "        #new_df.printSchema()\n",
    "\n",
    "        stages = []\n",
    "        assembler = VectorAssembler(inputCols=list(new_df.schema.names[:-1]), outputCol=\"features\")\n",
    "        stages += [assembler]\n",
    "\n",
    "        partialPipeline = Pipeline().setStages(stages)\n",
    "        pipelineModel = partialPipeline.fit(new_df)\n",
    "        preppedDataDF = pipelineModel.transform(new_df)\n",
    "\n",
    "        train, test = preppedDataDF.randomSplit([0.8, 0.2], 0)\n",
    "\n",
    "        lr = LogisticRegression(labelCol='target')\n",
    "        pipeline = Pipeline(stages=[lr])\n",
    "\n",
    "        paramGrid = ParamGridBuilder() \n",
    "        #paramGrid = paramGrid.addGrid(lr.threshold, [0.3, 0.4, 0.5, 0.6, 0.7]) \n",
    "        paramGrid = paramGrid.addGrid(lr.elasticNetParam, [0, 0.5, 1]) \n",
    "        paramGrid = paramGrid.addGrid(lr.regParam, [0.1, 0.01]) \n",
    "        paramGrid = paramGrid.build()\n",
    "\n",
    "        crossval = CrossValidator(estimator=pipeline,\n",
    "                                  estimatorParamMaps=paramGrid,\n",
    "                                  evaluator=BinaryClassificationEvaluator(labelCol='target'),\n",
    "                                  numFolds=3) \n",
    "\n",
    "        cvModel = crossval.fit(train)\n",
    "\n",
    "        pred = cvModel.transform(test)\n",
    "\n",
    "        evaluator = BinaryClassificationEvaluator(rawPredictionCol=\"rawPrediction\", labelCol='target')\n",
    "\n",
    "        nonlocal n\n",
    "        n+=1\n",
    "        print(str(n / num_items * 100) + '%')\n",
    "        \n",
    "        return evaluator.evaluate(pred)\n",
    "    \n",
    "    return cross_validate_on_selected_features_inner"
   ]
  },
  {
   "cell_type": "markdown",
   "metadata": {},
   "source": [
    "#### As before, this data is also saved as a .csv to prevent unecessary recomputation"
   ]
  },
  {
   "cell_type": "code",
   "execution_count": 19,
   "metadata": {},
   "outputs": [
    {
     "data": {
      "text/html": [
       "<div>\n",
       "<style scoped>\n",
       "    .dataframe tbody tr th:only-of-type {\n",
       "        vertical-align: middle;\n",
       "    }\n",
       "\n",
       "    .dataframe tbody tr th {\n",
       "        vertical-align: top;\n",
       "    }\n",
       "\n",
       "    .dataframe thead th {\n",
       "        text-align: right;\n",
       "    }\n",
       "</style>\n",
       "<table border=\"1\" class=\"dataframe\">\n",
       "  <thead>\n",
       "    <tr style=\"text-align: right;\">\n",
       "      <th></th>\n",
       "      <th>Score</th>\n",
       "      <th>Features</th>\n",
       "    </tr>\n",
       "  </thead>\n",
       "  <tbody>\n",
       "    <tr>\n",
       "      <th>0</th>\n",
       "      <td>0.991429</td>\n",
       "      <td>['sex', 'cp', 'fbs', 'restecg', 'thalach', 'ex...</td>\n",
       "    </tr>\n",
       "    <tr>\n",
       "      <th>1</th>\n",
       "      <td>0.990000</td>\n",
       "      <td>['sex', 'cp', 'fbs', 'restecg', 'thalach', 'ex...</td>\n",
       "    </tr>\n",
       "    <tr>\n",
       "      <th>2</th>\n",
       "      <td>0.987143</td>\n",
       "      <td>['sex', 'cp', 'fbs', 'restecg', 'thalach', 'ex...</td>\n",
       "    </tr>\n",
       "    <tr>\n",
       "      <th>3</th>\n",
       "      <td>0.987143</td>\n",
       "      <td>['cp', 'chol', 'restecg', 'exang', 'oldpeak', ...</td>\n",
       "    </tr>\n",
       "    <tr>\n",
       "      <th>4</th>\n",
       "      <td>0.985714</td>\n",
       "      <td>['sex', 'cp', 'fbs', 'restecg', 'thalach', 'ex...</td>\n",
       "    </tr>\n",
       "    <tr>\n",
       "      <th>...</th>\n",
       "      <td>...</td>\n",
       "      <td>...</td>\n",
       "    </tr>\n",
       "    <tr>\n",
       "      <th>76</th>\n",
       "      <td>0.964387</td>\n",
       "      <td>['cp', 'thalach', 'exang', 'slope', 'ca', 'tha...</td>\n",
       "    </tr>\n",
       "    <tr>\n",
       "      <th>77</th>\n",
       "      <td>0.964387</td>\n",
       "      <td>['sex', 'cp', 'trestbps', 'oldpeak', 'ca', 'th...</td>\n",
       "    </tr>\n",
       "    <tr>\n",
       "      <th>78</th>\n",
       "      <td>0.964387</td>\n",
       "      <td>['sex', 'cp', 'trestbps', 'fbs', 'oldpeak', 'c...</td>\n",
       "    </tr>\n",
       "    <tr>\n",
       "      <th>79</th>\n",
       "      <td>0.964286</td>\n",
       "      <td>['age', 'sex', 'chol', 'thalach', 'oldpeak', '...</td>\n",
       "    </tr>\n",
       "    <tr>\n",
       "      <th>80</th>\n",
       "      <td>0.964286</td>\n",
       "      <td>['cp', 'chol', 'fbs', 'thalach', 'oldpeak', 't...</td>\n",
       "    </tr>\n",
       "  </tbody>\n",
       "</table>\n",
       "<p>81 rows × 2 columns</p>\n",
       "</div>"
      ],
      "text/plain": [
       "       Score                                           Features\n",
       "0   0.991429  ['sex', 'cp', 'fbs', 'restecg', 'thalach', 'ex...\n",
       "1   0.990000  ['sex', 'cp', 'fbs', 'restecg', 'thalach', 'ex...\n",
       "2   0.987143  ['sex', 'cp', 'fbs', 'restecg', 'thalach', 'ex...\n",
       "3   0.987143  ['cp', 'chol', 'restecg', 'exang', 'oldpeak', ...\n",
       "4   0.985714  ['sex', 'cp', 'fbs', 'restecg', 'thalach', 'ex...\n",
       "..       ...                                                ...\n",
       "76  0.964387  ['cp', 'thalach', 'exang', 'slope', 'ca', 'tha...\n",
       "77  0.964387  ['sex', 'cp', 'trestbps', 'oldpeak', 'ca', 'th...\n",
       "78  0.964387  ['sex', 'cp', 'trestbps', 'fbs', 'oldpeak', 'c...\n",
       "79  0.964286  ['age', 'sex', 'chol', 'thalach', 'oldpeak', '...\n",
       "80  0.964286  ['cp', 'chol', 'fbs', 'thalach', 'oldpeak', 't...\n",
       "\n",
       "[81 rows x 2 columns]"
      ]
     },
     "execution_count": 19,
     "metadata": {},
     "output_type": "execute_result"
    }
   ],
   "source": [
    "try:\n",
    "    cv_best_df = pd.read_csv('cv_best.csv') \n",
    "except:\n",
    "    best_features = map(lambda x: x[1], best)\n",
    "    cv_scores = map(cross_validate_on_selected_features(len(best)), best_features)\n",
    "    \n",
    "    rdd = sc.parallelize(cv_scores)\n",
    "    rdd = rdd.zipWithIndex()\n",
    "    rdd = rdd.sortByKey(ascending=False)\n",
    "    rdd = rdd.map(lambda x: (x[0], mask_to_col(x[1] + 1)))\n",
    "    cv_best = rdd.take(int(2**13 * 0.1))\n",
    "    \n",
    "    cv_best_df = pandas.DataFrame(cv_best, columns=['Score', 'Features'])\n",
    "    cv_best_df.to_csv('cv_best.csv')\n",
    "\n",
    "cv_best_df[['Score', 'Features']]"
   ]
  }
 ],
 "metadata": {
  "kernelspec": {
   "display_name": "ENSF612",
   "language": "python",
   "name": "ensf612"
  },
  "language_info": {
   "codemirror_mode": {
    "name": "ipython",
    "version": 3
   },
   "file_extension": ".py",
   "mimetype": "text/x-python",
   "name": "python",
   "nbconvert_exporter": "python",
   "pygments_lexer": "ipython3",
   "version": "3.7.4"
  }
 },
 "nbformat": 4,
 "nbformat_minor": 4
}
